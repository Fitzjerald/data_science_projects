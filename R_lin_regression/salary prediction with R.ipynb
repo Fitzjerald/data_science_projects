{
 "cells": [
  {
   "cell_type": "markdown",
   "metadata": {},
   "source": [
    "# Salary prediction"
   ]
  },
  {
   "cell_type": "markdown",
   "metadata": {},
   "source": [
    "This is very very simple project, that i need just for comparing training set and test set. The code doesn't have something special, because almost all was taken from documentation and just need me for practice with R."
   ]
  },
  {
   "cell_type": "markdown",
   "metadata": {},
   "source": [
    "Here we use simple linear regression."
   ]
  },
  {
   "cell_type": "code",
   "execution_count": 12,
   "metadata": {},
   "outputs": [],
   "source": [
    "#import libraries\n",
    "library(caTools)\n",
    "library(ggplot2)"
   ]
  },
  {
   "cell_type": "code",
   "execution_count": 13,
   "metadata": {},
   "outputs": [
    {
     "data": {
      "text/html": [
       "<table>\n",
       "<thead><tr><th scope=col>YearsExperience</th><th scope=col>Salary</th></tr></thead>\n",
       "<tbody>\n",
       "\t<tr><td>1.1  </td><td>39343</td></tr>\n",
       "\t<tr><td>1.3  </td><td>46205</td></tr>\n",
       "\t<tr><td>1.5  </td><td>37731</td></tr>\n",
       "\t<tr><td>2.0  </td><td>43525</td></tr>\n",
       "\t<tr><td>2.2  </td><td>39891</td></tr>\n",
       "\t<tr><td>2.9  </td><td>56642</td></tr>\n",
       "</tbody>\n",
       "</table>\n"
      ],
      "text/latex": [
       "\\begin{tabular}{r|ll}\n",
       " YearsExperience & Salary\\\\\n",
       "\\hline\n",
       "\t 1.1   & 39343\\\\\n",
       "\t 1.3   & 46205\\\\\n",
       "\t 1.5   & 37731\\\\\n",
       "\t 2.0   & 43525\\\\\n",
       "\t 2.2   & 39891\\\\\n",
       "\t 2.9   & 56642\\\\\n",
       "\\end{tabular}\n"
      ],
      "text/markdown": [
       "\n",
       "| YearsExperience | Salary |\n",
       "|---|---|\n",
       "| 1.1   | 39343 |\n",
       "| 1.3   | 46205 |\n",
       "| 1.5   | 37731 |\n",
       "| 2.0   | 43525 |\n",
       "| 2.2   | 39891 |\n",
       "| 2.9   | 56642 |\n",
       "\n"
      ],
      "text/plain": [
       "  YearsExperience Salary\n",
       "1 1.1             39343 \n",
       "2 1.3             46205 \n",
       "3 1.5             37731 \n",
       "4 2.0             43525 \n",
       "5 2.2             39891 \n",
       "6 2.9             56642 "
      ]
     },
     "metadata": {},
     "output_type": "display_data"
    }
   ],
   "source": [
    "#read csv file and check head\n",
    "salary = read.csv('Salary_Data.csv')\n",
    "head(salary)"
   ]
  },
  {
   "cell_type": "code",
   "execution_count": 7,
   "metadata": {},
   "outputs": [],
   "source": [
    "#splitting data into training set and test set\n",
    "set.seed(123)\n",
    "split = sample.split(salary$Salary, SplitRatio = 2/3)\n",
    "training_set = subset(salary, split == TRUE)\n",
    "test_set = subset(salary, split == FALSE)"
   ]
  },
  {
   "cell_type": "code",
   "execution_count": 8,
   "metadata": {},
   "outputs": [
    {
     "data": {
      "text/plain": [
       "\n",
       "Call:\n",
       "lm(formula = Salary ~ YearsExperience, data = training_set)\n",
       "\n",
       "Residuals:\n",
       "    Min      1Q  Median      3Q     Max \n",
       "-7325.1 -3814.4   427.7  3559.7  8884.6 \n",
       "\n",
       "Coefficients:\n",
       "                Estimate Std. Error t value Pr(>|t|)    \n",
       "(Intercept)        25592       2646   9.672 1.49e-08 ***\n",
       "YearsExperience     9365        421  22.245 1.52e-14 ***\n",
       "---\n",
       "Signif. codes:  0 '***' 0.001 '**' 0.01 '*' 0.05 '.' 0.1 ' ' 1\n",
       "\n",
       "Residual standard error: 5391 on 18 degrees of freedom\n",
       "Multiple R-squared:  0.9649,\tAdjusted R-squared:  0.963 \n",
       "F-statistic: 494.8 on 1 and 18 DF,  p-value: 1.524e-14\n"
      ]
     },
     "metadata": {},
     "output_type": "display_data"
    }
   ],
   "source": [
    "#Fitting simple linear regression to the training set\n",
    "regressor = lm(formula = Salary ~ YearsExperience, data=training_set)\n",
    "summary(regressor)"
   ]
  },
  {
   "cell_type": "code",
   "execution_count": 9,
   "metadata": {},
   "outputs": [],
   "source": [
    "salary_predict = predict(regressor, test_set)\n",
    "salary_training_set_predict = predict(regressor, training_set)"
   ]
  },
  {
   "cell_type": "code",
   "execution_count": 10,
   "metadata": {},
   "outputs": [
    {
     "data": {
      "image/png": "[encoded data removed]",
      "text/plain": [
       "plot without title"
      ]
     },
     "metadata": {},
     "output_type": "display_data"
    }
   ],
   "source": [
    "#Training set data plot\n",
    "ggplot() + \n",
    "  geom_point(aes(x=training_set$YearsExperience, y=training_set$Salary), color='red') +\n",
    "  geom_line(aes(x=training_set$YearsExperience, y=salary_training_set_predict), color='blue') + \n",
    "  ggtitle('Years of Experience vs Salary (Training Set)') + \n",
    "  xlab('Years of experience') +\n",
    "  ylab('Salary')"
   ]
  },
  {
   "cell_type": "code",
   "execution_count": 11,
   "metadata": {},
   "outputs": [
    {
     "data": {
      "image/png": "[encoded data removed]",
      "text/plain": [
       "plot without title"
      ]
     },
     "metadata": {},
     "output_type": "display_data"
    }
   ],
   "source": [
    "#Test set data plot\n",
    "ggplot() + \n",
    "  geom_point(aes(x=test_set$YearsExperience, y=test_set$Salary), color='red') + \n",
    "  geom_line(aes(x=training_set$YearsExperience, y=salary_training_set_predict), color='blue') +\n",
    "  ggtitle('Years of Experience vs Salary (Test set)') +\n",
    "  xlab('Years of Experience') +\n",
    "  ylab('Salary')"
   ]
  }
 ],
 "metadata": {
  "kernelspec": {
   "display_name": "R",
   "language": "R",
   "name": "ir"
  },
  "language_info": {
   "codemirror_mode": "r",
   "file_extension": ".r",
   "mimetype": "text/x-r-source",
   "name": "R",
   "pygments_lexer": "r",
   "version": "3.6.1"
  }
 },
 "nbformat": 4,
 "nbformat_minor": 4
}
